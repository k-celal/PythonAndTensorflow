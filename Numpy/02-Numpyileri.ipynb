{
 "cells": [
  {
   "cell_type": "code",
   "execution_count": 1,
   "id": "e03561e0",
   "metadata": {},
   "outputs": [],
   "source": [
    "import numpy as np"
   ]
  },
  {
   "cell_type": "code",
   "execution_count": 2,
   "id": "fa410785",
   "metadata": {},
   "outputs": [],
   "source": [
    "myArr=np.arange(0,15)"
   ]
  },
  {
   "cell_type": "code",
   "execution_count": 3,
   "id": "32a92e7c",
   "metadata": {},
   "outputs": [
    {
     "data": {
      "text/plain": [
       "array([ 0,  1,  2,  3,  4,  5,  6,  7,  8,  9, 10, 11, 12, 13, 14])"
      ]
     },
     "execution_count": 3,
     "metadata": {},
     "output_type": "execute_result"
    }
   ],
   "source": [
    "myArr"
   ]
  },
  {
   "cell_type": "code",
   "execution_count": 4,
   "id": "8ec6cbc4",
   "metadata": {},
   "outputs": [
    {
     "data": {
      "text/plain": [
       "4"
      ]
     },
     "execution_count": 4,
     "metadata": {},
     "output_type": "execute_result"
    }
   ],
   "source": [
    "myArr[4]"
   ]
  },
  {
   "cell_type": "code",
   "execution_count": 6,
   "id": "7463144c",
   "metadata": {},
   "outputs": [
    {
     "data": {
      "text/plain": [
       "array([ 3,  4,  5,  6,  7,  8,  9, 10])"
      ]
     },
     "execution_count": 6,
     "metadata": {},
     "output_type": "execute_result"
    }
   ],
   "source": [
    "myArr[3:11]"
   ]
  },
  {
   "cell_type": "code",
   "execution_count": 7,
   "id": "afb85a2b",
   "metadata": {},
   "outputs": [],
   "source": [
    "myArr[3:7]=-11"
   ]
  },
  {
   "cell_type": "code",
   "execution_count": 8,
   "id": "bed4e846",
   "metadata": {},
   "outputs": [
    {
     "data": {
      "text/plain": [
       "array([  0,   1,   2, -11, -11, -11, -11,   7,   8,   9,  10,  11,  12,\n",
       "        13,  14])"
      ]
     },
     "execution_count": 8,
     "metadata": {},
     "output_type": "execute_result"
    }
   ],
   "source": [
    "myArr"
   ]
  },
  {
   "cell_type": "code",
   "execution_count": 9,
   "id": "692e4601",
   "metadata": {},
   "outputs": [],
   "source": [
    "myArr2=np.arange(0,24)"
   ]
  },
  {
   "cell_type": "code",
   "execution_count": 10,
   "id": "b3341a46",
   "metadata": {},
   "outputs": [
    {
     "data": {
      "text/plain": [
       "array([ 0,  1,  2,  3,  4,  5,  6,  7,  8,  9, 10, 11, 12, 13, 14, 15, 16,\n",
       "       17, 18, 19, 20, 21, 22, 23])"
      ]
     },
     "execution_count": 10,
     "metadata": {},
     "output_type": "execute_result"
    }
   ],
   "source": [
    "myArr2"
   ]
  },
  {
   "cell_type": "code",
   "execution_count": 11,
   "id": "3821115a",
   "metadata": {},
   "outputs": [],
   "source": [
    "sliceArr=myArr2[3:15]"
   ]
  },
  {
   "cell_type": "code",
   "execution_count": 12,
   "id": "987060a3",
   "metadata": {},
   "outputs": [
    {
     "data": {
      "text/plain": [
       "array([ 3,  4,  5,  6,  7,  8,  9, 10, 11, 12, 13, 14])"
      ]
     },
     "execution_count": 12,
     "metadata": {},
     "output_type": "execute_result"
    }
   ],
   "source": [
    "sliceArr"
   ]
  },
  {
   "cell_type": "code",
   "execution_count": 13,
   "id": "08fd9191",
   "metadata": {},
   "outputs": [],
   "source": [
    "sliceArr[:]=54"
   ]
  },
  {
   "cell_type": "code",
   "execution_count": 14,
   "id": "f2e36a4c",
   "metadata": {},
   "outputs": [
    {
     "data": {
      "text/plain": [
       "array([54, 54, 54, 54, 54, 54, 54, 54, 54, 54, 54, 54])"
      ]
     },
     "execution_count": 14,
     "metadata": {},
     "output_type": "execute_result"
    }
   ],
   "source": [
    "sliceArr"
   ]
  },
  {
   "cell_type": "code",
   "execution_count": 16,
   "id": "a395520e",
   "metadata": {},
   "outputs": [
    {
     "data": {
      "text/plain": [
       "array([ 0,  1,  2, 54, 54, 54, 54, 54, 54, 54, 54, 54, 54, 54, 54, 15, 16,\n",
       "       17, 18, 19, 20, 21, 22, 23])"
      ]
     },
     "execution_count": 16,
     "metadata": {},
     "output_type": "execute_result"
    }
   ],
   "source": [
    "myArr2"
   ]
  },
  {
   "cell_type": "code",
   "execution_count": 18,
   "id": "6cd0582d",
   "metadata": {},
   "outputs": [],
   "source": [
    "ornekArr=np.arange(0,24)"
   ]
  },
  {
   "cell_type": "code",
   "execution_count": 19,
   "id": "d4bde820",
   "metadata": {},
   "outputs": [
    {
     "data": {
      "text/plain": [
       "array([ 0,  1,  2,  3,  4,  5,  6,  7,  8,  9, 10, 11, 12, 13, 14, 15, 16,\n",
       "       17, 18, 19, 20, 21, 22, 23])"
      ]
     },
     "execution_count": 19,
     "metadata": {},
     "output_type": "execute_result"
    }
   ],
   "source": [
    "ornekArr"
   ]
  },
  {
   "cell_type": "code",
   "execution_count": 20,
   "id": "6c24d1cc",
   "metadata": {},
   "outputs": [],
   "source": [
    "ornekArrCopy=ornekArr.copy()"
   ]
  },
  {
   "cell_type": "code",
   "execution_count": 21,
   "id": "41f6f38e",
   "metadata": {},
   "outputs": [
    {
     "data": {
      "text/plain": [
       "array([ 0,  1,  2,  3,  4,  5,  6,  7,  8,  9, 10, 11, 12, 13, 14, 15, 16,\n",
       "       17, 18, 19, 20, 21, 22, 23])"
      ]
     },
     "execution_count": 21,
     "metadata": {},
     "output_type": "execute_result"
    }
   ],
   "source": [
    "ornekArrCopy"
   ]
  },
  {
   "cell_type": "code",
   "execution_count": 22,
   "id": "c7fd55e8",
   "metadata": {},
   "outputs": [],
   "source": [
    "ornekArrCopySlice=ornekArrCopy[6:24]"
   ]
  },
  {
   "cell_type": "code",
   "execution_count": 23,
   "id": "43dab553",
   "metadata": {},
   "outputs": [],
   "source": [
    "ornekArrCopySlice[:]=804"
   ]
  },
  {
   "cell_type": "code",
   "execution_count": 24,
   "id": "0f9cd9f3",
   "metadata": {},
   "outputs": [
    {
     "data": {
      "text/plain": [
       "array([804, 804, 804, 804, 804, 804, 804, 804, 804, 804, 804, 804, 804,\n",
       "       804, 804, 804, 804, 804])"
      ]
     },
     "execution_count": 24,
     "metadata": {},
     "output_type": "execute_result"
    }
   ],
   "source": [
    "ornekArrCopySlice"
   ]
  },
  {
   "cell_type": "code",
   "execution_count": 26,
   "id": "a000e0b6",
   "metadata": {},
   "outputs": [
    {
     "data": {
      "text/plain": [
       "array([  0,   1,   2,   3,   4,   5, 804, 804, 804, 804, 804, 804, 804,\n",
       "       804, 804, 804, 804, 804, 804, 804, 804, 804, 804, 804])"
      ]
     },
     "execution_count": 26,
     "metadata": {},
     "output_type": "execute_result"
    }
   ],
   "source": [
    "ornekArrCopy"
   ]
  },
  {
   "cell_type": "markdown",
   "id": "6ecde190",
   "metadata": {},
   "source": [
    "matrix"
   ]
  },
  {
   "cell_type": "code",
   "execution_count": 27,
   "id": "d931f22a",
   "metadata": {},
   "outputs": [],
   "source": [
    "matrixList=[[10,20,30],[40,50,60],[70,80,90]]"
   ]
  },
  {
   "cell_type": "code",
   "execution_count": 28,
   "id": "1c9c4809",
   "metadata": {},
   "outputs": [],
   "source": [
    "myMatrix=np.array(matrixList)"
   ]
  },
  {
   "cell_type": "code",
   "execution_count": 29,
   "id": "7f419f1a",
   "metadata": {},
   "outputs": [
    {
     "data": {
      "text/plain": [
       "array([[10, 20, 30],\n",
       "       [40, 50, 60],\n",
       "       [70, 80, 90]])"
      ]
     },
     "execution_count": 29,
     "metadata": {},
     "output_type": "execute_result"
    }
   ],
   "source": [
    "myMatrix"
   ]
  },
  {
   "cell_type": "code",
   "execution_count": 30,
   "id": "7a2d4f7f",
   "metadata": {},
   "outputs": [
    {
     "data": {
      "text/plain": [
       "20"
      ]
     },
     "execution_count": 30,
     "metadata": {},
     "output_type": "execute_result"
    }
   ],
   "source": [
    "myMatrix[0][1]"
   ]
  },
  {
   "cell_type": "code",
   "execution_count": 31,
   "id": "829b0f3c",
   "metadata": {},
   "outputs": [
    {
     "data": {
      "text/plain": [
       "60"
      ]
     },
     "execution_count": 31,
     "metadata": {},
     "output_type": "execute_result"
    }
   ],
   "source": [
    "myMatrix[1,2]"
   ]
  },
  {
   "cell_type": "code",
   "execution_count": 33,
   "id": "932c0367",
   "metadata": {},
   "outputs": [
    {
     "data": {
      "text/plain": [
       "array([[60],\n",
       "       [90]])"
      ]
     },
     "execution_count": 33,
     "metadata": {},
     "output_type": "execute_result"
    }
   ],
   "source": [
    "myMatrix[1:,2:]"
   ]
  },
  {
   "cell_type": "code",
   "execution_count": 35,
   "id": "7e28b39a",
   "metadata": {},
   "outputs": [],
   "source": [
    "yeniListe = [[0,1,2,3,4],[5,6,7,8,9],[10,11,12,13,14],[15,16,17,18,19],[20,21,22,23,24]]"
   ]
  },
  {
   "cell_type": "code",
   "execution_count": 36,
   "id": "a870a1ac",
   "metadata": {},
   "outputs": [],
   "source": [
    "yeniMatrix = np.array(yeniListe)"
   ]
  },
  {
   "cell_type": "code",
   "execution_count": 37,
   "id": "88a2197e",
   "metadata": {},
   "outputs": [
    {
     "data": {
      "text/plain": [
       "array([[ 0,  1,  2,  3,  4],\n",
       "       [ 5,  6,  7,  8,  9],\n",
       "       [10, 11, 12, 13, 14],\n",
       "       [15, 16, 17, 18, 19],\n",
       "       [20, 21, 22, 23, 24]])"
      ]
     },
     "execution_count": 37,
     "metadata": {},
     "output_type": "execute_result"
    }
   ],
   "source": [
    "yeniMatrix"
   ]
  },
  {
   "cell_type": "code",
   "execution_count": 38,
   "id": "07a745c9",
   "metadata": {},
   "outputs": [
    {
     "data": {
      "text/plain": [
       "array([[20, 21, 22, 23, 24],\n",
       "       [10, 11, 12, 13, 14],\n",
       "       [ 0,  1,  2,  3,  4]])"
      ]
     },
     "execution_count": 38,
     "metadata": {},
     "output_type": "execute_result"
    }
   ],
   "source": [
    "yeniMatrix[[4,2,0]]"
   ]
  },
  {
   "cell_type": "markdown",
   "id": "5d0fab3f",
   "metadata": {},
   "source": [
    "operasyonlar"
   ]
  },
  {
   "cell_type": "code",
   "execution_count": 41,
   "id": "ab90f3d3",
   "metadata": {},
   "outputs": [],
   "source": [
    "yeniBirDizi = np.random.randint(1,100,(5,5))"
   ]
  },
  {
   "cell_type": "code",
   "execution_count": 42,
   "id": "77cf246c",
   "metadata": {},
   "outputs": [
    {
     "data": {
      "text/plain": [
       "array([[98, 32, 82, 37, 70],\n",
       "       [40, 41, 98, 55,  9],\n",
       "       [48, 59, 33, 15,  8],\n",
       "       [94, 54, 94,  9, 87],\n",
       "       [97, 99, 82, 21, 68]])"
      ]
     },
     "execution_count": 42,
     "metadata": {},
     "output_type": "execute_result"
    }
   ],
   "source": [
    "yeniBirDizi"
   ]
  },
  {
   "cell_type": "code",
   "execution_count": 43,
   "id": "1bbb87a3",
   "metadata": {},
   "outputs": [
    {
     "data": {
      "text/plain": [
       "array([[ True,  True,  True,  True,  True],\n",
       "       [ True,  True,  True,  True, False],\n",
       "       [ True,  True,  True, False, False],\n",
       "       [ True,  True,  True, False,  True],\n",
       "       [ True,  True,  True, False,  True]])"
      ]
     },
     "execution_count": 43,
     "metadata": {},
     "output_type": "execute_result"
    }
   ],
   "source": [
    "yeniBirDizi > 24"
   ]
  },
  {
   "cell_type": "code",
   "execution_count": 44,
   "id": "4908e86e",
   "metadata": {},
   "outputs": [],
   "source": [
    "sonucDizisi = yeniBirDizi > 24"
   ]
  },
  {
   "cell_type": "code",
   "execution_count": 45,
   "id": "d95fe555",
   "metadata": {},
   "outputs": [
    {
     "data": {
      "text/plain": [
       "array([[ True,  True,  True,  True,  True],\n",
       "       [ True,  True,  True,  True, False],\n",
       "       [ True,  True,  True, False, False],\n",
       "       [ True,  True,  True, False,  True],\n",
       "       [ True,  True,  True, False,  True]])"
      ]
     },
     "execution_count": 45,
     "metadata": {},
     "output_type": "execute_result"
    }
   ],
   "source": [
    "sonucDizisi"
   ]
  },
  {
   "cell_type": "code",
   "execution_count": 46,
   "id": "8c43fddc",
   "metadata": {},
   "outputs": [
    {
     "data": {
      "text/plain": [
       "array([98, 32, 82, 37, 70, 40, 41, 98, 55, 48, 59, 33, 94, 54, 94, 87, 97,\n",
       "       99, 82, 68])"
      ]
     },
     "execution_count": 46,
     "metadata": {},
     "output_type": "execute_result"
    }
   ],
   "source": [
    "yeniBirDizi[sonucDizisi]"
   ]
  },
  {
   "cell_type": "code",
   "execution_count": 47,
   "id": "ce58ee81",
   "metadata": {},
   "outputs": [
    {
     "data": {
      "text/plain": [
       "array([98, 32, 82, 37, 70, 40, 41, 98, 55, 48, 59, 33, 94, 54, 94, 87, 97,\n",
       "       99, 82, 68])"
      ]
     },
     "execution_count": 47,
     "metadata": {},
     "output_type": "execute_result"
    }
   ],
   "source": [
    "yeniBirDizi[yeniBirDizi > 24]"
   ]
  },
  {
   "cell_type": "code",
   "execution_count": 48,
   "id": "6af21dc3",
   "metadata": {},
   "outputs": [],
   "source": [
    "sonDizi = np.arange(0,24)"
   ]
  },
  {
   "cell_type": "code",
   "execution_count": 49,
   "id": "90e7ed1f",
   "metadata": {},
   "outputs": [
    {
     "data": {
      "text/plain": [
       "array([ 0,  1,  2,  3,  4,  5,  6,  7,  8,  9, 10, 11, 12, 13, 14, 15, 16,\n",
       "       17, 18, 19, 20, 21, 22, 23])"
      ]
     },
     "execution_count": 49,
     "metadata": {},
     "output_type": "execute_result"
    }
   ],
   "source": [
    "sonDizi"
   ]
  },
  {
   "cell_type": "code",
   "execution_count": 50,
   "id": "978d952a",
   "metadata": {},
   "outputs": [
    {
     "data": {
      "text/plain": [
       "array([ 0,  2,  4,  6,  8, 10, 12, 14, 16, 18, 20, 22, 24, 26, 28, 30, 32,\n",
       "       34, 36, 38, 40, 42, 44, 46])"
      ]
     },
     "execution_count": 50,
     "metadata": {},
     "output_type": "execute_result"
    }
   ],
   "source": [
    "sonDizi+sonDizi"
   ]
  },
  {
   "cell_type": "code",
   "execution_count": 51,
   "id": "666112af",
   "metadata": {},
   "outputs": [
    {
     "data": {
      "text/plain": [
       "array([  0,   1,   4,   9,  16,  25,  36,  49,  64,  81, 100, 121, 144,\n",
       "       169, 196, 225, 256, 289, 324, 361, 400, 441, 484, 529])"
      ]
     },
     "execution_count": 51,
     "metadata": {},
     "output_type": "execute_result"
    }
   ],
   "source": [
    "sonDizi * sonDizi"
   ]
  },
  {
   "cell_type": "code",
   "execution_count": 52,
   "id": "55f1c0fc",
   "metadata": {},
   "outputs": [
    {
     "data": {
      "text/plain": [
       "array([0, 0, 0, 0, 0, 0, 0, 0, 0, 0, 0, 0, 0, 0, 0, 0, 0, 0, 0, 0, 0, 0,\n",
       "       0, 0])"
      ]
     },
     "execution_count": 52,
     "metadata": {},
     "output_type": "execute_result"
    }
   ],
   "source": [
    "sonDizi - sonDizi"
   ]
  },
  {
   "cell_type": "code",
   "execution_count": 53,
   "id": "0b5e6394",
   "metadata": {},
   "outputs": [
    {
     "name": "stderr",
     "output_type": "stream",
     "text": [
      "C:\\Users\\Celal\\AppData\\Local\\Temp\\ipykernel_7592\\1312094733.py:1: RuntimeWarning: invalid value encountered in true_divide\n",
      "  sonDizi / sonDizi\n"
     ]
    },
    {
     "data": {
      "text/plain": [
       "array([nan,  1.,  1.,  1.,  1.,  1.,  1.,  1.,  1.,  1.,  1.,  1.,  1.,\n",
       "        1.,  1.,  1.,  1.,  1.,  1.,  1.,  1.,  1.,  1.,  1.])"
      ]
     },
     "execution_count": 53,
     "metadata": {},
     "output_type": "execute_result"
    }
   ],
   "source": [
    "sonDizi / sonDizi"
   ]
  },
  {
   "cell_type": "code",
   "execution_count": 54,
   "id": "172081b2",
   "metadata": {},
   "outputs": [
    {
     "data": {
      "text/plain": [
       "array([0.        , 1.        , 1.41421356, 1.73205081, 2.        ,\n",
       "       2.23606798, 2.44948974, 2.64575131, 2.82842712, 3.        ,\n",
       "       3.16227766, 3.31662479, 3.46410162, 3.60555128, 3.74165739,\n",
       "       3.87298335, 4.        , 4.12310563, 4.24264069, 4.35889894,\n",
       "       4.47213595, 4.58257569, 4.69041576, 4.79583152])"
      ]
     },
     "execution_count": 54,
     "metadata": {},
     "output_type": "execute_result"
    }
   ],
   "source": [
    "np.sqrt(sonDizi)"
   ]
  },
  {
   "cell_type": "code",
   "execution_count": 55,
   "id": "76b33c6f",
   "metadata": {},
   "outputs": [
    {
     "data": {
      "text/plain": [
       "23"
      ]
     },
     "execution_count": 55,
     "metadata": {},
     "output_type": "execute_result"
    }
   ],
   "source": [
    "np.max(sonDizi)"
   ]
  },
  {
   "cell_type": "code",
   "execution_count": 56,
   "id": "b56dd13e",
   "metadata": {},
   "outputs": [
    {
     "data": {
      "text/plain": [
       "0"
      ]
     },
     "execution_count": 56,
     "metadata": {},
     "output_type": "execute_result"
    }
   ],
   "source": [
    "np.min(sonDizi)"
   ]
  },
  {
   "cell_type": "code",
   "execution_count": null,
   "id": "89ac987c",
   "metadata": {},
   "outputs": [],
   "source": []
  }
 ],
 "metadata": {
  "kernelspec": {
   "display_name": "Python 3 (ipykernel)",
   "language": "python",
   "name": "python3"
  },
  "language_info": {
   "codemirror_mode": {
    "name": "ipython",
    "version": 3
   },
   "file_extension": ".py",
   "mimetype": "text/x-python",
   "name": "python",
   "nbconvert_exporter": "python",
   "pygments_lexer": "ipython3",
   "version": "3.9.13"
  }
 },
 "nbformat": 4,
 "nbformat_minor": 5
}
