{
 "cells": [
  {
   "cell_type": "code",
   "execution_count": 1,
   "id": "74f09083",
   "metadata": {},
   "outputs": [
    {
     "name": "stdout",
     "output_type": "stream",
     "text": [
      "0\n"
     ]
    }
   ],
   "source": [
    "import numpy as np \n",
    "dizi0=np.array(10) \n",
    "print(dizi0.ndim)"
   ]
  },
  {
   "cell_type": "code",
   "execution_count": 3,
   "id": "c553acbc",
   "metadata": {},
   "outputs": [
    {
     "ename": "KeyError",
     "evalue": "0",
     "output_type": "error",
     "traceback": [
      "\u001b[1;31m---------------------------------------------------------------------------\u001b[0m",
      "\u001b[1;31mKeyError\u001b[0m                                  Traceback (most recent call last)",
      "\u001b[1;32m~\\AppData\\Local\\Temp\\ipykernel_7396\\1553996798.py\u001b[0m in \u001b[0;36m<module>\u001b[1;34m\u001b[0m\n\u001b[0;32m      1\u001b[0m \u001b[0msözlük\u001b[0m\u001b[1;33m=\u001b[0m\u001b[1;33m{\u001b[0m\u001b[1;34m'1'\u001b[0m\u001b[1;33m:\u001b[0m\u001b[1;34m'a'\u001b[0m\u001b[1;33m,\u001b[0m\u001b[1;34m'2'\u001b[0m\u001b[1;33m:\u001b[0m\u001b[1;34m'b'\u001b[0m\u001b[1;33m,\u001b[0m\u001b[1;34m'3'\u001b[0m\u001b[1;33m:\u001b[0m\u001b[1;34m'c'\u001b[0m\u001b[1;33m}\u001b[0m\u001b[1;33m\u001b[0m\u001b[1;33m\u001b[0m\u001b[0m\n\u001b[1;32m----> 2\u001b[1;33m \u001b[0msözlük\u001b[0m\u001b[1;33m[\u001b[0m\u001b[1;36m0\u001b[0m\u001b[1;33m]\u001b[0m\u001b[1;33m\u001b[0m\u001b[1;33m\u001b[0m\u001b[0m\n\u001b[0m",
      "\u001b[1;31mKeyError\u001b[0m: 0"
     ]
    }
   ],
   "source": [
    "sözlük={'1':'a','2':'b','3':'c'} \n",
    "sözlük[0]"
   ]
  },
  {
   "cell_type": "code",
   "execution_count": 4,
   "id": "d94b4384",
   "metadata": {},
   "outputs": [
    {
     "ename": "SyntaxError",
     "evalue": "invalid syntax (638269160.py, line 1)",
     "output_type": "error",
     "traceback": [
      "\u001b[1;36m  File \u001b[1;32m\"C:\\Users\\Celal\\AppData\\Local\\Temp\\ipykernel_7396\\638269160.py\"\u001b[1;36m, line \u001b[1;32m1\u001b[0m\n\u001b[1;33m    sayac=0 sayi=input('Sayı:') for i in range(2,int(sayi)): if(int(sayi)%i==0): sayac+=1 break if(sayac!=0): print(\"&&&&&\") else: print(\"#####\")\u001b[0m\n\u001b[1;37m            ^\u001b[0m\n\u001b[1;31mSyntaxError\u001b[0m\u001b[1;31m:\u001b[0m invalid syntax\n"
     ]
    }
   ],
   "source": [
    "sayac=0\n",
    "sayi=input('Sayı:')\n",
    "for i in range(2,int(sayi)):\n",
    "    if(int(sayi)%i==0): \n",
    "        sayac+=1 \n",
    "        break \n",
    "        if(sayac!=0): \n",
    "            print(\"&&&&&\") \n",
    "       else: \n",
    "            print(\"#####\")"
   ]
  },
  {
   "cell_type": "code",
   "execution_count": 5,
   "id": "ae0f14f0",
   "metadata": {},
   "outputs": [],
   "source": [
    "import pandas as pd"
   ]
  },
  {
   "cell_type": "code",
   "execution_count": 7,
   "id": "15d5e43f",
   "metadata": {},
   "outputs": [
    {
     "data": {
      "text/plain": [
       "'KTB'"
      ]
     },
     "execution_count": 7,
     "metadata": {},
     "output_type": "execute_result"
    }
   ],
   "source": [
    "isim=\"BTK\" \n",
    "isim[::-1]"
   ]
  },
  {
   "cell_type": "code",
   "execution_count": null,
   "id": "601cbfe8",
   "metadata": {},
   "outputs": [],
   "source": []
  }
 ],
 "metadata": {
  "kernelspec": {
   "display_name": "Python 3 (ipykernel)",
   "language": "python",
   "name": "python3"
  },
  "language_info": {
   "codemirror_mode": {
    "name": "ipython",
    "version": 3
   },
   "file_extension": ".py",
   "mimetype": "text/x-python",
   "name": "python",
   "nbconvert_exporter": "python",
   "pygments_lexer": "ipython3",
   "version": "3.9.13"
  }
 },
 "nbformat": 4,
 "nbformat_minor": 5
}
