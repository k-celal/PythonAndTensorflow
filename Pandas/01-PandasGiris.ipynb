{
 "cells": [
  {
   "cell_type": "code",
   "execution_count": 4,
   "id": "a3f49e45",
   "metadata": {},
   "outputs": [],
   "source": [
    "import numpy as np\n",
    "import pandas as pd"
   ]
  },
  {
   "cell_type": "markdown",
   "id": "cd02eb7e",
   "metadata": {},
   "source": [
    "series"
   ]
  },
  {
   "cell_type": "code",
   "execution_count": 5,
   "id": "81d604c3",
   "metadata": {},
   "outputs": [],
   "source": [
    "benimSozlugum = {\"Celal\" : 50, \"Hasan\" : 40, \"Bahadir\" : 30}"
   ]
  },
  {
   "cell_type": "code",
   "execution_count": 6,
   "id": "978bbca5",
   "metadata": {},
   "outputs": [
    {
     "data": {
      "text/plain": [
       "Celal      50\n",
       "Hasan      40\n",
       "Bahadir    30\n",
       "dtype: int64"
      ]
     },
     "execution_count": 6,
     "metadata": {},
     "output_type": "execute_result"
    }
   ],
   "source": [
    "pd.Series(benimSozlugum)"
   ]
  },
  {
   "cell_type": "code",
   "execution_count": 7,
   "id": "b9e9726e",
   "metadata": {},
   "outputs": [],
   "source": [
    "benimYaslarim = [50,40,30]\n",
    "benimIsimlerim = [\"Celal\", \"Hasan\", \"Bahadir\"]"
   ]
  },
  {
   "cell_type": "code",
   "execution_count": 8,
   "id": "49c2c282",
   "metadata": {},
   "outputs": [
    {
     "data": {
      "text/plain": [
       "0    50\n",
       "1    40\n",
       "2    30\n",
       "dtype: int64"
      ]
     },
     "execution_count": 8,
     "metadata": {},
     "output_type": "execute_result"
    }
   ],
   "source": [
    "pd.Series(benimYaslarim)"
   ]
  },
  {
   "cell_type": "code",
   "execution_count": 10,
   "id": "953ff6e1",
   "metadata": {},
   "outputs": [
    {
     "data": {
      "text/plain": [
       "Celal      50\n",
       "Hasan      40\n",
       "Bahadir    30\n",
       "dtype: int64"
      ]
     },
     "execution_count": 10,
     "metadata": {},
     "output_type": "execute_result"
    }
   ],
   "source": [
    "pd.Series(benimYaslarim, benimIsimlerim)"
   ]
  },
  {
   "cell_type": "code",
   "execution_count": 11,
   "id": "146c4fdd",
   "metadata": {},
   "outputs": [
    {
     "data": {
      "text/plain": [
       "Celal      50\n",
       "Hasan      40\n",
       "Bahadir    30\n",
       "dtype: int64"
      ]
     },
     "execution_count": 11,
     "metadata": {},
     "output_type": "execute_result"
    }
   ],
   "source": [
    "pd.Series(data=benimYaslarim, index=benimIsimlerim)"
   ]
  },
  {
   "cell_type": "code",
   "execution_count": 12,
   "id": "a3eee2de",
   "metadata": {},
   "outputs": [],
   "source": [
    "numpyDizisi = np.array([50,40,30])"
   ]
  },
  {
   "cell_type": "code",
   "execution_count": 13,
   "id": "1c49c944",
   "metadata": {},
   "outputs": [
    {
     "data": {
      "text/plain": [
       "0    50\n",
       "1    40\n",
       "2    30\n",
       "dtype: int32"
      ]
     },
     "execution_count": 13,
     "metadata": {},
     "output_type": "execute_result"
    }
   ],
   "source": [
    "pd.Series(numpyDizisi)"
   ]
  },
  {
   "cell_type": "code",
   "execution_count": 14,
   "id": "008e68b5",
   "metadata": {},
   "outputs": [
    {
     "data": {
      "text/plain": [
       "Celal      50\n",
       "Hasan      40\n",
       "Bahadir    30\n",
       "dtype: int32"
      ]
     },
     "execution_count": 14,
     "metadata": {},
     "output_type": "execute_result"
    }
   ],
   "source": [
    "pd.Series(numpyDizisi,benimIsimlerim)"
   ]
  },
  {
   "cell_type": "code",
   "execution_count": 15,
   "id": "645bacca",
   "metadata": {},
   "outputs": [
    {
     "data": {
      "text/plain": [
       "1    Celal\n",
       "2    Deniz\n",
       "3      Efe\n",
       "dtype: object"
      ]
     },
     "execution_count": 15,
     "metadata": {},
     "output_type": "execute_result"
    }
   ],
   "source": [
    "pd.Series([\"Celal\",\"Deniz\",\"Efe\"],[1,2,3])"
   ]
  },
  {
   "cell_type": "code",
   "execution_count": 16,
   "id": "b5b1f44e",
   "metadata": {},
   "outputs": [],
   "source": [
    "yarismaSonucu1 = pd.Series([10,5,1],[\"Celal\",\"Deniz\",\"Efe\"])"
   ]
  },
  {
   "cell_type": "code",
   "execution_count": 17,
   "id": "2b1d3f8e",
   "metadata": {},
   "outputs": [
    {
     "data": {
      "text/plain": [
       "Celal    10\n",
       "Deniz     5\n",
       "Efe       1\n",
       "dtype: int64"
      ]
     },
     "execution_count": 17,
     "metadata": {},
     "output_type": "execute_result"
    }
   ],
   "source": [
    "yarismaSonucu1"
   ]
  },
  {
   "cell_type": "code",
   "execution_count": 18,
   "id": "5dff1416",
   "metadata": {},
   "outputs": [],
   "source": [
    "yarismaSonucu2 = pd.Series([20,10,8],[\"Celal\",\"Deniz\",\"Efe\"])"
   ]
  },
  {
   "cell_type": "code",
   "execution_count": 19,
   "id": "5b3efa52",
   "metadata": {},
   "outputs": [
    {
     "data": {
      "text/plain": [
       "Celal    20\n",
       "Deniz    10\n",
       "Efe       8\n",
       "dtype: int64"
      ]
     },
     "execution_count": 19,
     "metadata": {},
     "output_type": "execute_result"
    }
   ],
   "source": [
    "yarismaSonucu2"
   ]
  },
  {
   "cell_type": "code",
   "execution_count": 20,
   "id": "e432ec00",
   "metadata": {},
   "outputs": [],
   "source": [
    "sonsonuc=yarismaSonucu1+yarismaSonucu2"
   ]
  },
  {
   "cell_type": "code",
   "execution_count": 21,
   "id": "6dcfc19f",
   "metadata": {},
   "outputs": [
    {
     "data": {
      "text/plain": [
       "Celal    30\n",
       "Deniz    15\n",
       "Efe       9\n",
       "dtype: int64"
      ]
     },
     "execution_count": 21,
     "metadata": {},
     "output_type": "execute_result"
    }
   ],
   "source": [
    "sonsonuc"
   ]
  },
  {
   "cell_type": "code",
   "execution_count": 22,
   "id": "5300ac6f",
   "metadata": {},
   "outputs": [],
   "source": [
    "farkliSeries = pd.Series([20,30,40,50],[\"a\",\"b\",\"c\",\"d\"])"
   ]
  },
  {
   "cell_type": "code",
   "execution_count": 23,
   "id": "97860608",
   "metadata": {},
   "outputs": [],
   "source": [
    "farkliSeries2 = pd.Series([10,5,3,1],[\"a\",\"c\",\"f\",\"g\"])"
   ]
  },
  {
   "cell_type": "code",
   "execution_count": 24,
   "id": "2cf2d0c7",
   "metadata": {},
   "outputs": [
    {
     "data": {
      "text/plain": [
       "a    30.0\n",
       "b     NaN\n",
       "c    45.0\n",
       "d     NaN\n",
       "f     NaN\n",
       "g     NaN\n",
       "dtype: float64"
      ]
     },
     "execution_count": 24,
     "metadata": {},
     "output_type": "execute_result"
    }
   ],
   "source": [
    "farkliSeries+farkliSeries2 #sadece kesişen yerler toplanır"
   ]
  },
  {
   "cell_type": "code",
   "execution_count": null,
   "id": "406dd31c",
   "metadata": {},
   "outputs": [],
   "source": []
  }
 ],
 "metadata": {
  "kernelspec": {
   "display_name": "Python 3 (ipykernel)",
   "language": "python",
   "name": "python3"
  },
  "language_info": {
   "codemirror_mode": {
    "name": "ipython",
    "version": 3
   },
   "file_extension": ".py",
   "mimetype": "text/x-python",
   "name": "python",
   "nbconvert_exporter": "python",
   "pygments_lexer": "ipython3",
   "version": "3.9.13"
  }
 },
 "nbformat": 4,
 "nbformat_minor": 5
}
