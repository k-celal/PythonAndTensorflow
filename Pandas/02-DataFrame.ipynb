{
 "cells": [
  {
   "cell_type": "code",
   "execution_count": 1,
   "id": "21f6316b",
   "metadata": {},
   "outputs": [],
   "source": [
    "import pandas as pd"
   ]
  },
  {
   "cell_type": "code",
   "execution_count": 2,
   "id": "14a68ad4",
   "metadata": {},
   "outputs": [],
   "source": [
    "import numpy as np"
   ]
  },
  {
   "cell_type": "code",
   "execution_count": 6,
   "id": "f1a9200e",
   "metadata": {},
   "outputs": [],
   "source": [
    "data= np.random.randn(4,3)"
   ]
  },
  {
   "cell_type": "code",
   "execution_count": 7,
   "id": "42b15bce",
   "metadata": {},
   "outputs": [],
   "source": [
    "dataFrame=pd.DataFrame(data)"
   ]
  },
  {
   "cell_type": "code",
   "execution_count": 8,
   "id": "c07bdad7",
   "metadata": {},
   "outputs": [
    {
     "data": {
      "text/html": [
       "<div>\n",
       "<style scoped>\n",
       "    .dataframe tbody tr th:only-of-type {\n",
       "        vertical-align: middle;\n",
       "    }\n",
       "\n",
       "    .dataframe tbody tr th {\n",
       "        vertical-align: top;\n",
       "    }\n",
       "\n",
       "    .dataframe thead th {\n",
       "        text-align: right;\n",
       "    }\n",
       "</style>\n",
       "<table border=\"1\" class=\"dataframe\">\n",
       "  <thead>\n",
       "    <tr style=\"text-align: right;\">\n",
       "      <th></th>\n",
       "      <th>0</th>\n",
       "      <th>1</th>\n",
       "      <th>2</th>\n",
       "    </tr>\n",
       "  </thead>\n",
       "  <tbody>\n",
       "    <tr>\n",
       "      <th>0</th>\n",
       "      <td>-0.432184</td>\n",
       "      <td>-0.851895</td>\n",
       "      <td>-0.721319</td>\n",
       "    </tr>\n",
       "    <tr>\n",
       "      <th>1</th>\n",
       "      <td>-1.278256</td>\n",
       "      <td>1.648929</td>\n",
       "      <td>0.060028</td>\n",
       "    </tr>\n",
       "    <tr>\n",
       "      <th>2</th>\n",
       "      <td>1.123925</td>\n",
       "      <td>1.436857</td>\n",
       "      <td>0.514531</td>\n",
       "    </tr>\n",
       "    <tr>\n",
       "      <th>3</th>\n",
       "      <td>-0.601804</td>\n",
       "      <td>0.732202</td>\n",
       "      <td>0.162387</td>\n",
       "    </tr>\n",
       "  </tbody>\n",
       "</table>\n",
       "</div>"
      ],
      "text/plain": [
       "          0         1         2\n",
       "0 -0.432184 -0.851895 -0.721319\n",
       "1 -1.278256  1.648929  0.060028\n",
       "2  1.123925  1.436857  0.514531\n",
       "3 -0.601804  0.732202  0.162387"
      ]
     },
     "execution_count": 8,
     "metadata": {},
     "output_type": "execute_result"
    }
   ],
   "source": [
    "dataFrame"
   ]
  },
  {
   "cell_type": "code",
   "execution_count": 9,
   "id": "2239f5e1",
   "metadata": {},
   "outputs": [
    {
     "data": {
      "text/plain": [
       "0   -0.432184\n",
       "1   -1.278256\n",
       "2    1.123925\n",
       "3   -0.601804\n",
       "Name: 0, dtype: float64"
      ]
     },
     "execution_count": 9,
     "metadata": {},
     "output_type": "execute_result"
    }
   ],
   "source": [
    "dataFrame[0]"
   ]
  },
  {
   "cell_type": "code",
   "execution_count": 11,
   "id": "21842caf",
   "metadata": {},
   "outputs": [],
   "source": [
    "newDF=pd.DataFrame(data,index=[\"Celal\",\"Hasan\",\"Deniz\",\"Bahadir\"],columns=[\"Maas\",\"Yas\",\"Calisma Saati\"])"
   ]
  },
  {
   "cell_type": "code",
   "execution_count": 12,
   "id": "04192982",
   "metadata": {},
   "outputs": [
    {
     "data": {
      "text/html": [
       "<div>\n",
       "<style scoped>\n",
       "    .dataframe tbody tr th:only-of-type {\n",
       "        vertical-align: middle;\n",
       "    }\n",
       "\n",
       "    .dataframe tbody tr th {\n",
       "        vertical-align: top;\n",
       "    }\n",
       "\n",
       "    .dataframe thead th {\n",
       "        text-align: right;\n",
       "    }\n",
       "</style>\n",
       "<table border=\"1\" class=\"dataframe\">\n",
       "  <thead>\n",
       "    <tr style=\"text-align: right;\">\n",
       "      <th></th>\n",
       "      <th>Maas</th>\n",
       "      <th>Yas</th>\n",
       "      <th>Calisma Saati</th>\n",
       "    </tr>\n",
       "  </thead>\n",
       "  <tbody>\n",
       "    <tr>\n",
       "      <th>Celal</th>\n",
       "      <td>-0.432184</td>\n",
       "      <td>-0.851895</td>\n",
       "      <td>-0.721319</td>\n",
       "    </tr>\n",
       "    <tr>\n",
       "      <th>Hasan</th>\n",
       "      <td>-1.278256</td>\n",
       "      <td>1.648929</td>\n",
       "      <td>0.060028</td>\n",
       "    </tr>\n",
       "    <tr>\n",
       "      <th>Deniz</th>\n",
       "      <td>1.123925</td>\n",
       "      <td>1.436857</td>\n",
       "      <td>0.514531</td>\n",
       "    </tr>\n",
       "    <tr>\n",
       "      <th>Bahadir</th>\n",
       "      <td>-0.601804</td>\n",
       "      <td>0.732202</td>\n",
       "      <td>0.162387</td>\n",
       "    </tr>\n",
       "  </tbody>\n",
       "</table>\n",
       "</div>"
      ],
      "text/plain": [
       "             Maas       Yas  Calisma Saati\n",
       "Celal   -0.432184 -0.851895      -0.721319\n",
       "Hasan   -1.278256  1.648929       0.060028\n",
       "Deniz    1.123925  1.436857       0.514531\n",
       "Bahadir -0.601804  0.732202       0.162387"
      ]
     },
     "execution_count": 12,
     "metadata": {},
     "output_type": "execute_result"
    }
   ],
   "source": [
    "newDF"
   ]
  },
  {
   "cell_type": "code",
   "execution_count": 15,
   "id": "60d2f18a",
   "metadata": {},
   "outputs": [
    {
     "data": {
      "text/plain": [
       "Celal     -0.851895\n",
       "Hasan      1.648929\n",
       "Deniz      1.436857\n",
       "Bahadir    0.732202\n",
       "Name: Yas, dtype: float64"
      ]
     },
     "execution_count": 15,
     "metadata": {},
     "output_type": "execute_result"
    }
   ],
   "source": [
    "newDF[\"Yas\"]"
   ]
  },
  {
   "cell_type": "code",
   "execution_count": 22,
   "id": "e2961ebd",
   "metadata": {},
   "outputs": [
    {
     "data": {
      "text/html": [
       "<div>\n",
       "<style scoped>\n",
       "    .dataframe tbody tr th:only-of-type {\n",
       "        vertical-align: middle;\n",
       "    }\n",
       "\n",
       "    .dataframe tbody tr th {\n",
       "        vertical-align: top;\n",
       "    }\n",
       "\n",
       "    .dataframe thead th {\n",
       "        text-align: right;\n",
       "    }\n",
       "</style>\n",
       "<table border=\"1\" class=\"dataframe\">\n",
       "  <thead>\n",
       "    <tr style=\"text-align: right;\">\n",
       "      <th></th>\n",
       "      <th>Maas</th>\n",
       "      <th>Yas</th>\n",
       "    </tr>\n",
       "  </thead>\n",
       "  <tbody>\n",
       "    <tr>\n",
       "      <th>Celal</th>\n",
       "      <td>-0.432184</td>\n",
       "      <td>-0.851895</td>\n",
       "    </tr>\n",
       "    <tr>\n",
       "      <th>Hasan</th>\n",
       "      <td>-1.278256</td>\n",
       "      <td>1.648929</td>\n",
       "    </tr>\n",
       "    <tr>\n",
       "      <th>Deniz</th>\n",
       "      <td>1.123925</td>\n",
       "      <td>1.436857</td>\n",
       "    </tr>\n",
       "    <tr>\n",
       "      <th>Bahadir</th>\n",
       "      <td>-0.601804</td>\n",
       "      <td>0.732202</td>\n",
       "    </tr>\n",
       "  </tbody>\n",
       "</table>\n",
       "</div>"
      ],
      "text/plain": [
       "             Maas       Yas\n",
       "Celal   -0.432184 -0.851895\n",
       "Hasan   -1.278256  1.648929\n",
       "Deniz    1.123925  1.436857\n",
       "Bahadir -0.601804  0.732202"
      ]
     },
     "execution_count": 22,
     "metadata": {},
     "output_type": "execute_result"
    }
   ],
   "source": [
    "newDF[[\"Maas\",\"Yas\"]]"
   ]
  },
  {
   "cell_type": "code",
   "execution_count": 24,
   "id": "1bc2ce25",
   "metadata": {},
   "outputs": [
    {
     "data": {
      "text/plain": [
       "Maas            -0.432184\n",
       "Yas             -0.851895\n",
       "Calisma Saati   -0.721319\n",
       "Name: Celal, dtype: float64"
      ]
     },
     "execution_count": 24,
     "metadata": {},
     "output_type": "execute_result"
    }
   ],
   "source": [
    "newDF.loc[\"Celal\"]"
   ]
  },
  {
   "cell_type": "code",
   "execution_count": 26,
   "id": "f00e9a39",
   "metadata": {},
   "outputs": [
    {
     "data": {
      "text/plain": [
       "Maas            -1.278256\n",
       "Yas              1.648929\n",
       "Calisma Saati    0.060028\n",
       "Name: Hasan, dtype: float64"
      ]
     },
     "execution_count": 26,
     "metadata": {},
     "output_type": "execute_result"
    }
   ],
   "source": [
    "newDF.iloc[1]"
   ]
  },
  {
   "cell_type": "code",
   "execution_count": 27,
   "id": "7cb78cfa",
   "metadata": {},
   "outputs": [
    {
     "data": {
      "text/html": [
       "<div>\n",
       "<style scoped>\n",
       "    .dataframe tbody tr th:only-of-type {\n",
       "        vertical-align: middle;\n",
       "    }\n",
       "\n",
       "    .dataframe tbody tr th {\n",
       "        vertical-align: top;\n",
       "    }\n",
       "\n",
       "    .dataframe thead th {\n",
       "        text-align: right;\n",
       "    }\n",
       "</style>\n",
       "<table border=\"1\" class=\"dataframe\">\n",
       "  <thead>\n",
       "    <tr style=\"text-align: right;\">\n",
       "      <th></th>\n",
       "      <th>Maas</th>\n",
       "      <th>Yas</th>\n",
       "      <th>Calisma Saati</th>\n",
       "    </tr>\n",
       "  </thead>\n",
       "  <tbody>\n",
       "    <tr>\n",
       "      <th>Celal</th>\n",
       "      <td>-0.432184</td>\n",
       "      <td>-0.851895</td>\n",
       "      <td>-0.721319</td>\n",
       "    </tr>\n",
       "    <tr>\n",
       "      <th>Hasan</th>\n",
       "      <td>-1.278256</td>\n",
       "      <td>1.648929</td>\n",
       "      <td>0.060028</td>\n",
       "    </tr>\n",
       "    <tr>\n",
       "      <th>Deniz</th>\n",
       "      <td>1.123925</td>\n",
       "      <td>1.436857</td>\n",
       "      <td>0.514531</td>\n",
       "    </tr>\n",
       "    <tr>\n",
       "      <th>Bahadir</th>\n",
       "      <td>-0.601804</td>\n",
       "      <td>0.732202</td>\n",
       "      <td>0.162387</td>\n",
       "    </tr>\n",
       "  </tbody>\n",
       "</table>\n",
       "</div>"
      ],
      "text/plain": [
       "             Maas       Yas  Calisma Saati\n",
       "Celal   -0.432184 -0.851895      -0.721319\n",
       "Hasan   -1.278256  1.648929       0.060028\n",
       "Deniz    1.123925  1.436857       0.514531\n",
       "Bahadir -0.601804  0.732202       0.162387"
      ]
     },
     "execution_count": 27,
     "metadata": {},
     "output_type": "execute_result"
    }
   ],
   "source": [
    "newDF"
   ]
  },
  {
   "cell_type": "code",
   "execution_count": 28,
   "id": "34eea96a",
   "metadata": {},
   "outputs": [],
   "source": [
    "newDF[\"Ememklilik Yas\"]=newDF[\"Yas\"]+newDF[\"Yas\"]"
   ]
  },
  {
   "cell_type": "code",
   "execution_count": 29,
   "id": "4eb70a7f",
   "metadata": {},
   "outputs": [
    {
     "data": {
      "text/html": [
       "<div>\n",
       "<style scoped>\n",
       "    .dataframe tbody tr th:only-of-type {\n",
       "        vertical-align: middle;\n",
       "    }\n",
       "\n",
       "    .dataframe tbody tr th {\n",
       "        vertical-align: top;\n",
       "    }\n",
       "\n",
       "    .dataframe thead th {\n",
       "        text-align: right;\n",
       "    }\n",
       "</style>\n",
       "<table border=\"1\" class=\"dataframe\">\n",
       "  <thead>\n",
       "    <tr style=\"text-align: right;\">\n",
       "      <th></th>\n",
       "      <th>Maas</th>\n",
       "      <th>Yas</th>\n",
       "      <th>Calisma Saati</th>\n",
       "      <th>Ememklilik Yas</th>\n",
       "    </tr>\n",
       "  </thead>\n",
       "  <tbody>\n",
       "    <tr>\n",
       "      <th>Celal</th>\n",
       "      <td>-0.432184</td>\n",
       "      <td>-0.851895</td>\n",
       "      <td>-0.721319</td>\n",
       "      <td>-1.703789</td>\n",
       "    </tr>\n",
       "    <tr>\n",
       "      <th>Hasan</th>\n",
       "      <td>-1.278256</td>\n",
       "      <td>1.648929</td>\n",
       "      <td>0.060028</td>\n",
       "      <td>3.297857</td>\n",
       "    </tr>\n",
       "    <tr>\n",
       "      <th>Deniz</th>\n",
       "      <td>1.123925</td>\n",
       "      <td>1.436857</td>\n",
       "      <td>0.514531</td>\n",
       "      <td>2.873714</td>\n",
       "    </tr>\n",
       "    <tr>\n",
       "      <th>Bahadir</th>\n",
       "      <td>-0.601804</td>\n",
       "      <td>0.732202</td>\n",
       "      <td>0.162387</td>\n",
       "      <td>1.464405</td>\n",
       "    </tr>\n",
       "  </tbody>\n",
       "</table>\n",
       "</div>"
      ],
      "text/plain": [
       "             Maas       Yas  Calisma Saati  Ememklilik Yas\n",
       "Celal   -0.432184 -0.851895      -0.721319       -1.703789\n",
       "Hasan   -1.278256  1.648929       0.060028        3.297857\n",
       "Deniz    1.123925  1.436857       0.514531        2.873714\n",
       "Bahadir -0.601804  0.732202       0.162387        1.464405"
      ]
     },
     "execution_count": 29,
     "metadata": {},
     "output_type": "execute_result"
    }
   ],
   "source": [
    "newDF"
   ]
  },
  {
   "cell_type": "code",
   "execution_count": 32,
   "id": "6afe52e9",
   "metadata": {},
   "outputs": [
    {
     "data": {
      "text/html": [
       "<div>\n",
       "<style scoped>\n",
       "    .dataframe tbody tr th:only-of-type {\n",
       "        vertical-align: middle;\n",
       "    }\n",
       "\n",
       "    .dataframe tbody tr th {\n",
       "        vertical-align: top;\n",
       "    }\n",
       "\n",
       "    .dataframe thead th {\n",
       "        text-align: right;\n",
       "    }\n",
       "</style>\n",
       "<table border=\"1\" class=\"dataframe\">\n",
       "  <thead>\n",
       "    <tr style=\"text-align: right;\">\n",
       "      <th></th>\n",
       "      <th>Maas</th>\n",
       "      <th>Yas</th>\n",
       "      <th>Calisma Saati</th>\n",
       "    </tr>\n",
       "  </thead>\n",
       "  <tbody>\n",
       "    <tr>\n",
       "      <th>Celal</th>\n",
       "      <td>-0.432184</td>\n",
       "      <td>-0.851895</td>\n",
       "      <td>-0.721319</td>\n",
       "    </tr>\n",
       "    <tr>\n",
       "      <th>Hasan</th>\n",
       "      <td>-1.278256</td>\n",
       "      <td>1.648929</td>\n",
       "      <td>0.060028</td>\n",
       "    </tr>\n",
       "    <tr>\n",
       "      <th>Deniz</th>\n",
       "      <td>1.123925</td>\n",
       "      <td>1.436857</td>\n",
       "      <td>0.514531</td>\n",
       "    </tr>\n",
       "    <tr>\n",
       "      <th>Bahadir</th>\n",
       "      <td>-0.601804</td>\n",
       "      <td>0.732202</td>\n",
       "      <td>0.162387</td>\n",
       "    </tr>\n",
       "  </tbody>\n",
       "</table>\n",
       "</div>"
      ],
      "text/plain": [
       "             Maas       Yas  Calisma Saati\n",
       "Celal   -0.432184 -0.851895      -0.721319\n",
       "Hasan   -1.278256  1.648929       0.060028\n",
       "Deniz    1.123925  1.436857       0.514531\n",
       "Bahadir -0.601804  0.732202       0.162387"
      ]
     },
     "execution_count": 32,
     "metadata": {},
     "output_type": "execute_result"
    }
   ],
   "source": [
    "newDF.drop(\"Ememklilik Yas\",axis=1)#axis=1 ise kolon demek  axis=0 ise satır da ara demek"
   ]
  },
  {
   "cell_type": "code",
   "execution_count": 33,
   "id": "bd204298",
   "metadata": {},
   "outputs": [
    {
     "data": {
      "text/html": [
       "<div>\n",
       "<style scoped>\n",
       "    .dataframe tbody tr th:only-of-type {\n",
       "        vertical-align: middle;\n",
       "    }\n",
       "\n",
       "    .dataframe tbody tr th {\n",
       "        vertical-align: top;\n",
       "    }\n",
       "\n",
       "    .dataframe thead th {\n",
       "        text-align: right;\n",
       "    }\n",
       "</style>\n",
       "<table border=\"1\" class=\"dataframe\">\n",
       "  <thead>\n",
       "    <tr style=\"text-align: right;\">\n",
       "      <th></th>\n",
       "      <th>Maas</th>\n",
       "      <th>Yas</th>\n",
       "      <th>Calisma Saati</th>\n",
       "      <th>Ememklilik Yas</th>\n",
       "    </tr>\n",
       "  </thead>\n",
       "  <tbody>\n",
       "    <tr>\n",
       "      <th>Celal</th>\n",
       "      <td>-0.432184</td>\n",
       "      <td>-0.851895</td>\n",
       "      <td>-0.721319</td>\n",
       "      <td>-1.703789</td>\n",
       "    </tr>\n",
       "    <tr>\n",
       "      <th>Hasan</th>\n",
       "      <td>-1.278256</td>\n",
       "      <td>1.648929</td>\n",
       "      <td>0.060028</td>\n",
       "      <td>3.297857</td>\n",
       "    </tr>\n",
       "    <tr>\n",
       "      <th>Deniz</th>\n",
       "      <td>1.123925</td>\n",
       "      <td>1.436857</td>\n",
       "      <td>0.514531</td>\n",
       "      <td>2.873714</td>\n",
       "    </tr>\n",
       "  </tbody>\n",
       "</table>\n",
       "</div>"
      ],
      "text/plain": [
       "           Maas       Yas  Calisma Saati  Ememklilik Yas\n",
       "Celal -0.432184 -0.851895      -0.721319       -1.703789\n",
       "Hasan -1.278256  1.648929       0.060028        3.297857\n",
       "Deniz  1.123925  1.436857       0.514531        2.873714"
      ]
     },
     "execution_count": 33,
     "metadata": {},
     "output_type": "execute_result"
    }
   ],
   "source": [
    "newDF.drop(\"Bahadir\",axis=0)"
   ]
  },
  {
   "cell_type": "code",
   "execution_count": 34,
   "id": "c3b0c732",
   "metadata": {},
   "outputs": [
    {
     "data": {
      "text/html": [
       "<div>\n",
       "<style scoped>\n",
       "    .dataframe tbody tr th:only-of-type {\n",
       "        vertical-align: middle;\n",
       "    }\n",
       "\n",
       "    .dataframe tbody tr th {\n",
       "        vertical-align: top;\n",
       "    }\n",
       "\n",
       "    .dataframe thead th {\n",
       "        text-align: right;\n",
       "    }\n",
       "</style>\n",
       "<table border=\"1\" class=\"dataframe\">\n",
       "  <thead>\n",
       "    <tr style=\"text-align: right;\">\n",
       "      <th></th>\n",
       "      <th>Maas</th>\n",
       "      <th>Yas</th>\n",
       "      <th>Calisma Saati</th>\n",
       "      <th>Ememklilik Yas</th>\n",
       "    </tr>\n",
       "  </thead>\n",
       "  <tbody>\n",
       "    <tr>\n",
       "      <th>Celal</th>\n",
       "      <td>-0.432184</td>\n",
       "      <td>-0.851895</td>\n",
       "      <td>-0.721319</td>\n",
       "      <td>-1.703789</td>\n",
       "    </tr>\n",
       "    <tr>\n",
       "      <th>Hasan</th>\n",
       "      <td>-1.278256</td>\n",
       "      <td>1.648929</td>\n",
       "      <td>0.060028</td>\n",
       "      <td>3.297857</td>\n",
       "    </tr>\n",
       "    <tr>\n",
       "      <th>Deniz</th>\n",
       "      <td>1.123925</td>\n",
       "      <td>1.436857</td>\n",
       "      <td>0.514531</td>\n",
       "      <td>2.873714</td>\n",
       "    </tr>\n",
       "    <tr>\n",
       "      <th>Bahadir</th>\n",
       "      <td>-0.601804</td>\n",
       "      <td>0.732202</td>\n",
       "      <td>0.162387</td>\n",
       "      <td>1.464405</td>\n",
       "    </tr>\n",
       "  </tbody>\n",
       "</table>\n",
       "</div>"
      ],
      "text/plain": [
       "             Maas       Yas  Calisma Saati  Ememklilik Yas\n",
       "Celal   -0.432184 -0.851895      -0.721319       -1.703789\n",
       "Hasan   -1.278256  1.648929       0.060028        3.297857\n",
       "Deniz    1.123925  1.436857       0.514531        2.873714\n",
       "Bahadir -0.601804  0.732202       0.162387        1.464405"
      ]
     },
     "execution_count": 34,
     "metadata": {},
     "output_type": "execute_result"
    }
   ],
   "source": [
    "newDF"
   ]
  },
  {
   "cell_type": "code",
   "execution_count": 35,
   "id": "b8d612ef",
   "metadata": {},
   "outputs": [],
   "source": [
    "newDF.drop(\"Bahadir\",axis=0,inplace=True)"
   ]
  },
  {
   "cell_type": "code",
   "execution_count": 36,
   "id": "ee2f2b67",
   "metadata": {},
   "outputs": [
    {
     "data": {
      "text/html": [
       "<div>\n",
       "<style scoped>\n",
       "    .dataframe tbody tr th:only-of-type {\n",
       "        vertical-align: middle;\n",
       "    }\n",
       "\n",
       "    .dataframe tbody tr th {\n",
       "        vertical-align: top;\n",
       "    }\n",
       "\n",
       "    .dataframe thead th {\n",
       "        text-align: right;\n",
       "    }\n",
       "</style>\n",
       "<table border=\"1\" class=\"dataframe\">\n",
       "  <thead>\n",
       "    <tr style=\"text-align: right;\">\n",
       "      <th></th>\n",
       "      <th>Maas</th>\n",
       "      <th>Yas</th>\n",
       "      <th>Calisma Saati</th>\n",
       "      <th>Ememklilik Yas</th>\n",
       "    </tr>\n",
       "  </thead>\n",
       "  <tbody>\n",
       "    <tr>\n",
       "      <th>Celal</th>\n",
       "      <td>-0.432184</td>\n",
       "      <td>-0.851895</td>\n",
       "      <td>-0.721319</td>\n",
       "      <td>-1.703789</td>\n",
       "    </tr>\n",
       "    <tr>\n",
       "      <th>Hasan</th>\n",
       "      <td>-1.278256</td>\n",
       "      <td>1.648929</td>\n",
       "      <td>0.060028</td>\n",
       "      <td>3.297857</td>\n",
       "    </tr>\n",
       "    <tr>\n",
       "      <th>Deniz</th>\n",
       "      <td>1.123925</td>\n",
       "      <td>1.436857</td>\n",
       "      <td>0.514531</td>\n",
       "      <td>2.873714</td>\n",
       "    </tr>\n",
       "  </tbody>\n",
       "</table>\n",
       "</div>"
      ],
      "text/plain": [
       "           Maas       Yas  Calisma Saati  Ememklilik Yas\n",
       "Celal -0.432184 -0.851895      -0.721319       -1.703789\n",
       "Hasan -1.278256  1.648929       0.060028        3.297857\n",
       "Deniz  1.123925  1.436857       0.514531        2.873714"
      ]
     },
     "execution_count": 36,
     "metadata": {},
     "output_type": "execute_result"
    }
   ],
   "source": [
    "newDF"
   ]
  },
  {
   "cell_type": "code",
   "execution_count": 37,
   "id": "8ae7bf07",
   "metadata": {},
   "outputs": [],
   "source": [
    "newDF.drop(\"Ememklilik Yas\",axis=1,inplace=True)"
   ]
  },
  {
   "cell_type": "code",
   "execution_count": 39,
   "id": "29077a35",
   "metadata": {},
   "outputs": [
    {
     "data": {
      "text/plain": [
       "-0.7213193260368936"
      ]
     },
     "execution_count": 39,
     "metadata": {},
     "output_type": "execute_result"
    }
   ],
   "source": [
    "newDF.loc[\"Celal\"][\"Calisma Saati\"]"
   ]
  },
  {
   "cell_type": "code",
   "execution_count": 40,
   "id": "ffebf35a",
   "metadata": {},
   "outputs": [
    {
     "data": {
      "text/plain": [
       "-0.8518946342398004"
      ]
     },
     "execution_count": 40,
     "metadata": {},
     "output_type": "execute_result"
    }
   ],
   "source": [
    "newDF.loc[\"Celal\",\"Yas\"]"
   ]
  },
  {
   "cell_type": "code",
   "execution_count": 41,
   "id": "212ff8f8",
   "metadata": {},
   "outputs": [],
   "source": [
    "booleanFrame = newDF < 0"
   ]
  },
  {
   "cell_type": "code",
   "execution_count": 42,
   "id": "4a1d0728",
   "metadata": {},
   "outputs": [
    {
     "data": {
      "text/html": [
       "<div>\n",
       "<style scoped>\n",
       "    .dataframe tbody tr th:only-of-type {\n",
       "        vertical-align: middle;\n",
       "    }\n",
       "\n",
       "    .dataframe tbody tr th {\n",
       "        vertical-align: top;\n",
       "    }\n",
       "\n",
       "    .dataframe thead th {\n",
       "        text-align: right;\n",
       "    }\n",
       "</style>\n",
       "<table border=\"1\" class=\"dataframe\">\n",
       "  <thead>\n",
       "    <tr style=\"text-align: right;\">\n",
       "      <th></th>\n",
       "      <th>Maas</th>\n",
       "      <th>Yas</th>\n",
       "      <th>Calisma Saati</th>\n",
       "    </tr>\n",
       "  </thead>\n",
       "  <tbody>\n",
       "    <tr>\n",
       "      <th>Celal</th>\n",
       "      <td>True</td>\n",
       "      <td>True</td>\n",
       "      <td>True</td>\n",
       "    </tr>\n",
       "    <tr>\n",
       "      <th>Hasan</th>\n",
       "      <td>True</td>\n",
       "      <td>False</td>\n",
       "      <td>False</td>\n",
       "    </tr>\n",
       "    <tr>\n",
       "      <th>Deniz</th>\n",
       "      <td>False</td>\n",
       "      <td>False</td>\n",
       "      <td>False</td>\n",
       "    </tr>\n",
       "  </tbody>\n",
       "</table>\n",
       "</div>"
      ],
      "text/plain": [
       "        Maas    Yas  Calisma Saati\n",
       "Celal   True   True           True\n",
       "Hasan   True  False          False\n",
       "Deniz  False  False          False"
      ]
     },
     "execution_count": 42,
     "metadata": {},
     "output_type": "execute_result"
    }
   ],
   "source": [
    "booleanFrame"
   ]
  },
  {
   "cell_type": "code",
   "execution_count": 43,
   "id": "3fa86a6b",
   "metadata": {},
   "outputs": [
    {
     "data": {
      "text/html": [
       "<div>\n",
       "<style scoped>\n",
       "    .dataframe tbody tr th:only-of-type {\n",
       "        vertical-align: middle;\n",
       "    }\n",
       "\n",
       "    .dataframe tbody tr th {\n",
       "        vertical-align: top;\n",
       "    }\n",
       "\n",
       "    .dataframe thead th {\n",
       "        text-align: right;\n",
       "    }\n",
       "</style>\n",
       "<table border=\"1\" class=\"dataframe\">\n",
       "  <thead>\n",
       "    <tr style=\"text-align: right;\">\n",
       "      <th></th>\n",
       "      <th>Maas</th>\n",
       "      <th>Yas</th>\n",
       "      <th>Calisma Saati</th>\n",
       "    </tr>\n",
       "  </thead>\n",
       "  <tbody>\n",
       "    <tr>\n",
       "      <th>Celal</th>\n",
       "      <td>-0.432184</td>\n",
       "      <td>-0.851895</td>\n",
       "      <td>-0.721319</td>\n",
       "    </tr>\n",
       "    <tr>\n",
       "      <th>Hasan</th>\n",
       "      <td>-1.278256</td>\n",
       "      <td>NaN</td>\n",
       "      <td>NaN</td>\n",
       "    </tr>\n",
       "    <tr>\n",
       "      <th>Deniz</th>\n",
       "      <td>NaN</td>\n",
       "      <td>NaN</td>\n",
       "      <td>NaN</td>\n",
       "    </tr>\n",
       "  </tbody>\n",
       "</table>\n",
       "</div>"
      ],
      "text/plain": [
       "           Maas       Yas  Calisma Saati\n",
       "Celal -0.432184 -0.851895      -0.721319\n",
       "Hasan -1.278256       NaN            NaN\n",
       "Deniz       NaN       NaN            NaN"
      ]
     },
     "execution_count": 43,
     "metadata": {},
     "output_type": "execute_result"
    }
   ],
   "source": [
    "newDF[booleanFrame]"
   ]
  },
  {
   "cell_type": "code",
   "execution_count": 45,
   "id": "6fb68176",
   "metadata": {},
   "outputs": [
    {
     "data": {
      "text/html": [
       "<div>\n",
       "<style scoped>\n",
       "    .dataframe tbody tr th:only-of-type {\n",
       "        vertical-align: middle;\n",
       "    }\n",
       "\n",
       "    .dataframe tbody tr th {\n",
       "        vertical-align: top;\n",
       "    }\n",
       "\n",
       "    .dataframe thead th {\n",
       "        text-align: right;\n",
       "    }\n",
       "</style>\n",
       "<table border=\"1\" class=\"dataframe\">\n",
       "  <thead>\n",
       "    <tr style=\"text-align: right;\">\n",
       "      <th></th>\n",
       "      <th>Maas</th>\n",
       "      <th>Yas</th>\n",
       "      <th>Calisma Saati</th>\n",
       "    </tr>\n",
       "  </thead>\n",
       "  <tbody>\n",
       "    <tr>\n",
       "      <th>Hasan</th>\n",
       "      <td>-1.278256</td>\n",
       "      <td>1.648929</td>\n",
       "      <td>0.060028</td>\n",
       "    </tr>\n",
       "    <tr>\n",
       "      <th>Deniz</th>\n",
       "      <td>1.123925</td>\n",
       "      <td>1.436857</td>\n",
       "      <td>0.514531</td>\n",
       "    </tr>\n",
       "  </tbody>\n",
       "</table>\n",
       "</div>"
      ],
      "text/plain": [
       "           Maas       Yas  Calisma Saati\n",
       "Hasan -1.278256  1.648929       0.060028\n",
       "Deniz  1.123925  1.436857       0.514531"
      ]
     },
     "execution_count": 45,
     "metadata": {},
     "output_type": "execute_result"
    }
   ],
   "source": [
    "newDF[newDF[\"Calisma Saati\"] > 0]"
   ]
  },
  {
   "cell_type": "code",
   "execution_count": 46,
   "id": "8c9b858a",
   "metadata": {},
   "outputs": [
    {
     "data": {
      "text/html": [
       "<div>\n",
       "<style scoped>\n",
       "    .dataframe tbody tr th:only-of-type {\n",
       "        vertical-align: middle;\n",
       "    }\n",
       "\n",
       "    .dataframe tbody tr th {\n",
       "        vertical-align: top;\n",
       "    }\n",
       "\n",
       "    .dataframe thead th {\n",
       "        text-align: right;\n",
       "    }\n",
       "</style>\n",
       "<table border=\"1\" class=\"dataframe\">\n",
       "  <thead>\n",
       "    <tr style=\"text-align: right;\">\n",
       "      <th></th>\n",
       "      <th>index</th>\n",
       "      <th>Maas</th>\n",
       "      <th>Yas</th>\n",
       "      <th>Calisma Saati</th>\n",
       "    </tr>\n",
       "  </thead>\n",
       "  <tbody>\n",
       "    <tr>\n",
       "      <th>0</th>\n",
       "      <td>Celal</td>\n",
       "      <td>-0.432184</td>\n",
       "      <td>-0.851895</td>\n",
       "      <td>-0.721319</td>\n",
       "    </tr>\n",
       "    <tr>\n",
       "      <th>1</th>\n",
       "      <td>Hasan</td>\n",
       "      <td>-1.278256</td>\n",
       "      <td>1.648929</td>\n",
       "      <td>0.060028</td>\n",
       "    </tr>\n",
       "    <tr>\n",
       "      <th>2</th>\n",
       "      <td>Deniz</td>\n",
       "      <td>1.123925</td>\n",
       "      <td>1.436857</td>\n",
       "      <td>0.514531</td>\n",
       "    </tr>\n",
       "  </tbody>\n",
       "</table>\n",
       "</div>"
      ],
      "text/plain": [
       "   index      Maas       Yas  Calisma Saati\n",
       "0  Celal -0.432184 -0.851895      -0.721319\n",
       "1  Hasan -1.278256  1.648929       0.060028\n",
       "2  Deniz  1.123925  1.436857       0.514531"
      ]
     },
     "execution_count": 46,
     "metadata": {},
     "output_type": "execute_result"
    }
   ],
   "source": [
    "newDF.reset_index()"
   ]
  },
  {
   "cell_type": "code",
   "execution_count": 47,
   "id": "f44232b9",
   "metadata": {},
   "outputs": [],
   "source": [
    "yeniIndeksListesi = [\"Cel\",\"Has\",\"Den\"]"
   ]
  },
  {
   "cell_type": "code",
   "execution_count": 48,
   "id": "50749341",
   "metadata": {},
   "outputs": [],
   "source": [
    "newDF[\"Yeni Indeks\"] = yeniIndeksListesi"
   ]
  },
  {
   "cell_type": "code",
   "execution_count": 49,
   "id": "f9b2fbdc",
   "metadata": {},
   "outputs": [
    {
     "data": {
      "text/html": [
       "<div>\n",
       "<style scoped>\n",
       "    .dataframe tbody tr th:only-of-type {\n",
       "        vertical-align: middle;\n",
       "    }\n",
       "\n",
       "    .dataframe tbody tr th {\n",
       "        vertical-align: top;\n",
       "    }\n",
       "\n",
       "    .dataframe thead th {\n",
       "        text-align: right;\n",
       "    }\n",
       "</style>\n",
       "<table border=\"1\" class=\"dataframe\">\n",
       "  <thead>\n",
       "    <tr style=\"text-align: right;\">\n",
       "      <th></th>\n",
       "      <th>Maas</th>\n",
       "      <th>Yas</th>\n",
       "      <th>Calisma Saati</th>\n",
       "      <th>Yeni Indeks</th>\n",
       "    </tr>\n",
       "  </thead>\n",
       "  <tbody>\n",
       "    <tr>\n",
       "      <th>Celal</th>\n",
       "      <td>-0.432184</td>\n",
       "      <td>-0.851895</td>\n",
       "      <td>-0.721319</td>\n",
       "      <td>Cel</td>\n",
       "    </tr>\n",
       "    <tr>\n",
       "      <th>Hasan</th>\n",
       "      <td>-1.278256</td>\n",
       "      <td>1.648929</td>\n",
       "      <td>0.060028</td>\n",
       "      <td>Has</td>\n",
       "    </tr>\n",
       "    <tr>\n",
       "      <th>Deniz</th>\n",
       "      <td>1.123925</td>\n",
       "      <td>1.436857</td>\n",
       "      <td>0.514531</td>\n",
       "      <td>Den</td>\n",
       "    </tr>\n",
       "  </tbody>\n",
       "</table>\n",
       "</div>"
      ],
      "text/plain": [
       "           Maas       Yas  Calisma Saati Yeni Indeks\n",
       "Celal -0.432184 -0.851895      -0.721319         Cel\n",
       "Hasan -1.278256  1.648929       0.060028         Has\n",
       "Deniz  1.123925  1.436857       0.514531         Den"
      ]
     },
     "execution_count": 49,
     "metadata": {},
     "output_type": "execute_result"
    }
   ],
   "source": [
    "newDF"
   ]
  },
  {
   "cell_type": "code",
   "execution_count": 51,
   "id": "d3c71132",
   "metadata": {},
   "outputs": [
    {
     "data": {
      "text/html": [
       "<div>\n",
       "<style scoped>\n",
       "    .dataframe tbody tr th:only-of-type {\n",
       "        vertical-align: middle;\n",
       "    }\n",
       "\n",
       "    .dataframe tbody tr th {\n",
       "        vertical-align: top;\n",
       "    }\n",
       "\n",
       "    .dataframe thead th {\n",
       "        text-align: right;\n",
       "    }\n",
       "</style>\n",
       "<table border=\"1\" class=\"dataframe\">\n",
       "  <thead>\n",
       "    <tr style=\"text-align: right;\">\n",
       "      <th></th>\n",
       "      <th>Maas</th>\n",
       "      <th>Yas</th>\n",
       "      <th>Calisma Saati</th>\n",
       "    </tr>\n",
       "    <tr>\n",
       "      <th>Yeni Indeks</th>\n",
       "      <th></th>\n",
       "      <th></th>\n",
       "      <th></th>\n",
       "    </tr>\n",
       "  </thead>\n",
       "  <tbody>\n",
       "    <tr>\n",
       "      <th>Cel</th>\n",
       "      <td>-0.432184</td>\n",
       "      <td>-0.851895</td>\n",
       "      <td>-0.721319</td>\n",
       "    </tr>\n",
       "    <tr>\n",
       "      <th>Has</th>\n",
       "      <td>-1.278256</td>\n",
       "      <td>1.648929</td>\n",
       "      <td>0.060028</td>\n",
       "    </tr>\n",
       "    <tr>\n",
       "      <th>Den</th>\n",
       "      <td>1.123925</td>\n",
       "      <td>1.436857</td>\n",
       "      <td>0.514531</td>\n",
       "    </tr>\n",
       "  </tbody>\n",
       "</table>\n",
       "</div>"
      ],
      "text/plain": [
       "                 Maas       Yas  Calisma Saati\n",
       "Yeni Indeks                                   \n",
       "Cel         -0.432184 -0.851895      -0.721319\n",
       "Has         -1.278256  1.648929       0.060028\n",
       "Den          1.123925  1.436857       0.514531"
      ]
     },
     "execution_count": 51,
     "metadata": {},
     "output_type": "execute_result"
    }
   ],
   "source": [
    "newDF.set_index(\"Yeni Indeks\")"
   ]
  },
  {
   "cell_type": "code",
   "execution_count": 52,
   "id": "fe967e0a",
   "metadata": {},
   "outputs": [
    {
     "data": {
      "text/html": [
       "<div>\n",
       "<style scoped>\n",
       "    .dataframe tbody tr th:only-of-type {\n",
       "        vertical-align: middle;\n",
       "    }\n",
       "\n",
       "    .dataframe tbody tr th {\n",
       "        vertical-align: top;\n",
       "    }\n",
       "\n",
       "    .dataframe thead th {\n",
       "        text-align: right;\n",
       "    }\n",
       "</style>\n",
       "<table border=\"1\" class=\"dataframe\">\n",
       "  <thead>\n",
       "    <tr style=\"text-align: right;\">\n",
       "      <th></th>\n",
       "      <th>Maas</th>\n",
       "      <th>Yas</th>\n",
       "      <th>Calisma Saati</th>\n",
       "      <th>Yeni Indeks</th>\n",
       "    </tr>\n",
       "  </thead>\n",
       "  <tbody>\n",
       "    <tr>\n",
       "      <th>Celal</th>\n",
       "      <td>-0.432184</td>\n",
       "      <td>-0.851895</td>\n",
       "      <td>-0.721319</td>\n",
       "      <td>Cel</td>\n",
       "    </tr>\n",
       "    <tr>\n",
       "      <th>Hasan</th>\n",
       "      <td>-1.278256</td>\n",
       "      <td>1.648929</td>\n",
       "      <td>0.060028</td>\n",
       "      <td>Has</td>\n",
       "    </tr>\n",
       "    <tr>\n",
       "      <th>Deniz</th>\n",
       "      <td>1.123925</td>\n",
       "      <td>1.436857</td>\n",
       "      <td>0.514531</td>\n",
       "      <td>Den</td>\n",
       "    </tr>\n",
       "  </tbody>\n",
       "</table>\n",
       "</div>"
      ],
      "text/plain": [
       "           Maas       Yas  Calisma Saati Yeni Indeks\n",
       "Celal -0.432184 -0.851895      -0.721319         Cel\n",
       "Hasan -1.278256  1.648929       0.060028         Has\n",
       "Deniz  1.123925  1.436857       0.514531         Den"
      ]
     },
     "execution_count": 52,
     "metadata": {},
     "output_type": "execute_result"
    }
   ],
   "source": [
    "newDF"
   ]
  },
  {
   "cell_type": "code",
   "execution_count": 53,
   "id": "a00f0f6f",
   "metadata": {},
   "outputs": [],
   "source": [
    "newDF.set_index(\"Yeni Indeks\",inplace=True)"
   ]
  },
  {
   "cell_type": "code",
   "execution_count": 54,
   "id": "eb45849b",
   "metadata": {},
   "outputs": [
    {
     "data": {
      "text/html": [
       "<div>\n",
       "<style scoped>\n",
       "    .dataframe tbody tr th:only-of-type {\n",
       "        vertical-align: middle;\n",
       "    }\n",
       "\n",
       "    .dataframe tbody tr th {\n",
       "        vertical-align: top;\n",
       "    }\n",
       "\n",
       "    .dataframe thead th {\n",
       "        text-align: right;\n",
       "    }\n",
       "</style>\n",
       "<table border=\"1\" class=\"dataframe\">\n",
       "  <thead>\n",
       "    <tr style=\"text-align: right;\">\n",
       "      <th></th>\n",
       "      <th>Maas</th>\n",
       "      <th>Yas</th>\n",
       "      <th>Calisma Saati</th>\n",
       "    </tr>\n",
       "    <tr>\n",
       "      <th>Yeni Indeks</th>\n",
       "      <th></th>\n",
       "      <th></th>\n",
       "      <th></th>\n",
       "    </tr>\n",
       "  </thead>\n",
       "  <tbody>\n",
       "    <tr>\n",
       "      <th>Cel</th>\n",
       "      <td>-0.432184</td>\n",
       "      <td>-0.851895</td>\n",
       "      <td>-0.721319</td>\n",
       "    </tr>\n",
       "    <tr>\n",
       "      <th>Has</th>\n",
       "      <td>-1.278256</td>\n",
       "      <td>1.648929</td>\n",
       "      <td>0.060028</td>\n",
       "    </tr>\n",
       "    <tr>\n",
       "      <th>Den</th>\n",
       "      <td>1.123925</td>\n",
       "      <td>1.436857</td>\n",
       "      <td>0.514531</td>\n",
       "    </tr>\n",
       "  </tbody>\n",
       "</table>\n",
       "</div>"
      ],
      "text/plain": [
       "                 Maas       Yas  Calisma Saati\n",
       "Yeni Indeks                                   \n",
       "Cel         -0.432184 -0.851895      -0.721319\n",
       "Has         -1.278256  1.648929       0.060028\n",
       "Den          1.123925  1.436857       0.514531"
      ]
     },
     "execution_count": 54,
     "metadata": {},
     "output_type": "execute_result"
    }
   ],
   "source": [
    "newDF"
   ]
  },
  {
   "cell_type": "code",
   "execution_count": 56,
   "id": "888fa329",
   "metadata": {},
   "outputs": [
    {
     "data": {
      "text/plain": [
       "Maas            -0.432184\n",
       "Yas             -0.851895\n",
       "Calisma Saati   -0.721319\n",
       "Name: Cel, dtype: float64"
      ]
     },
     "execution_count": 56,
     "metadata": {},
     "output_type": "execute_result"
    }
   ],
   "source": [
    "newDF.loc[\"Cel\"]"
   ]
  },
  {
   "cell_type": "code",
   "execution_count": 57,
   "id": "af0e1434",
   "metadata": {},
   "outputs": [],
   "source": [
    "ilkIndeksler = [\"Simpson\",\"Simpson\",\"Simpson\",\"South Park\", \"South Park\", \"South Park\"]"
   ]
  },
  {
   "cell_type": "code",
   "execution_count": 58,
   "id": "174f3ee1",
   "metadata": {},
   "outputs": [],
   "source": [
    "icIndeksler = [\"Homer\",\"Bart\",\"Marge\",\"Cartman\",\"Kenny\",\"Kyle\"]"
   ]
  },
  {
   "cell_type": "code",
   "execution_count": 59,
   "id": "6bc944ec",
   "metadata": {},
   "outputs": [],
   "source": [
    "birlesmisIndeks = list(zip(ilkIndeksler,icIndeksler))"
   ]
  },
  {
   "cell_type": "code",
   "execution_count": 60,
   "id": "14f944e6",
   "metadata": {},
   "outputs": [
    {
     "data": {
      "text/plain": [
       "[('Simpson', 'Homer'),\n",
       " ('Simpson', 'Bart'),\n",
       " ('Simpson', 'Marge'),\n",
       " ('South Park', 'Cartman'),\n",
       " ('South Park', 'Kenny'),\n",
       " ('South Park', 'Kyle')]"
      ]
     },
     "execution_count": 60,
     "metadata": {},
     "output_type": "execute_result"
    }
   ],
   "source": [
    "birlesmisIndeks"
   ]
  },
  {
   "cell_type": "code",
   "execution_count": 61,
   "id": "01b8a743",
   "metadata": {},
   "outputs": [],
   "source": [
    "birlesmisIndeks = pd.MultiIndex.from_tuples(birlesmisIndeks)"
   ]
  },
  {
   "cell_type": "code",
   "execution_count": 62,
   "id": "812a630b",
   "metadata": {},
   "outputs": [
    {
     "data": {
      "text/plain": [
       "MultiIndex([(   'Simpson',   'Homer'),\n",
       "            (   'Simpson',    'Bart'),\n",
       "            (   'Simpson',   'Marge'),\n",
       "            ('South Park', 'Cartman'),\n",
       "            ('South Park',   'Kenny'),\n",
       "            ('South Park',    'Kyle')],\n",
       "           )"
      ]
     },
     "execution_count": 62,
     "metadata": {},
     "output_type": "execute_result"
    }
   ],
   "source": [
    "birlesmisIndeks"
   ]
  },
  {
   "cell_type": "code",
   "execution_count": 63,
   "id": "d7098d5f",
   "metadata": {},
   "outputs": [],
   "source": [
    "birlesmisIndeks = pd.MultiIndex.from_tuples(birlesmisIndeks)"
   ]
  },
  {
   "cell_type": "code",
   "execution_count": 64,
   "id": "42c4e884",
   "metadata": {},
   "outputs": [
    {
     "data": {
      "text/plain": [
       "MultiIndex([(   'Simpson',   'Homer'),\n",
       "            (   'Simpson',    'Bart'),\n",
       "            (   'Simpson',   'Marge'),\n",
       "            ('South Park', 'Cartman'),\n",
       "            ('South Park',   'Kenny'),\n",
       "            ('South Park',    'Kyle')],\n",
       "           )"
      ]
     },
     "execution_count": 64,
     "metadata": {},
     "output_type": "execute_result"
    }
   ],
   "source": [
    "birlesmisIndeks"
   ]
  },
  {
   "cell_type": "code",
   "execution_count": 65,
   "id": "a7cbe9e1",
   "metadata": {},
   "outputs": [],
   "source": [
    "benimCizgiFilmListem = [[40,\"A\"],[10,\"B\"],[30,\"C\"],[9,\"D\"],[10,\"E\"],[11,\"F\"]]"
   ]
  },
  {
   "cell_type": "code",
   "execution_count": 66,
   "id": "336c87a1",
   "metadata": {},
   "outputs": [],
   "source": [
    "cizgiFilmNumpyDizisi = np.array(benimCizgiFilmListem)"
   ]
  },
  {
   "cell_type": "code",
   "execution_count": 67,
   "id": "ee37f281",
   "metadata": {},
   "outputs": [],
   "source": [
    "cizgiFilmDataFrame = pd.DataFrame(cizgiFilmNumpyDizisi,index=birlesmisIndeks,columns=[\"Yas\",\"Meslek\"])"
   ]
  },
  {
   "cell_type": "code",
   "execution_count": 68,
   "id": "b963b752",
   "metadata": {},
   "outputs": [
    {
     "data": {
      "text/html": [
       "<div>\n",
       "<style scoped>\n",
       "    .dataframe tbody tr th:only-of-type {\n",
       "        vertical-align: middle;\n",
       "    }\n",
       "\n",
       "    .dataframe tbody tr th {\n",
       "        vertical-align: top;\n",
       "    }\n",
       "\n",
       "    .dataframe thead th {\n",
       "        text-align: right;\n",
       "    }\n",
       "</style>\n",
       "<table border=\"1\" class=\"dataframe\">\n",
       "  <thead>\n",
       "    <tr style=\"text-align: right;\">\n",
       "      <th></th>\n",
       "      <th></th>\n",
       "      <th>Yas</th>\n",
       "      <th>Meslek</th>\n",
       "    </tr>\n",
       "  </thead>\n",
       "  <tbody>\n",
       "    <tr>\n",
       "      <th rowspan=\"3\" valign=\"top\">Simpson</th>\n",
       "      <th>Homer</th>\n",
       "      <td>40</td>\n",
       "      <td>A</td>\n",
       "    </tr>\n",
       "    <tr>\n",
       "      <th>Bart</th>\n",
       "      <td>10</td>\n",
       "      <td>B</td>\n",
       "    </tr>\n",
       "    <tr>\n",
       "      <th>Marge</th>\n",
       "      <td>30</td>\n",
       "      <td>C</td>\n",
       "    </tr>\n",
       "    <tr>\n",
       "      <th rowspan=\"3\" valign=\"top\">South Park</th>\n",
       "      <th>Cartman</th>\n",
       "      <td>9</td>\n",
       "      <td>D</td>\n",
       "    </tr>\n",
       "    <tr>\n",
       "      <th>Kenny</th>\n",
       "      <td>10</td>\n",
       "      <td>E</td>\n",
       "    </tr>\n",
       "    <tr>\n",
       "      <th>Kyle</th>\n",
       "      <td>11</td>\n",
       "      <td>F</td>\n",
       "    </tr>\n",
       "  </tbody>\n",
       "</table>\n",
       "</div>"
      ],
      "text/plain": [
       "                   Yas Meslek\n",
       "Simpson    Homer    40      A\n",
       "           Bart     10      B\n",
       "           Marge    30      C\n",
       "South Park Cartman   9      D\n",
       "           Kenny    10      E\n",
       "           Kyle     11      F"
      ]
     },
     "execution_count": 68,
     "metadata": {},
     "output_type": "execute_result"
    }
   ],
   "source": [
    "cizgiFilmDataFrame"
   ]
  },
  {
   "cell_type": "code",
   "execution_count": 69,
   "id": "69e209c2",
   "metadata": {},
   "outputs": [
    {
     "data": {
      "text/html": [
       "<div>\n",
       "<style scoped>\n",
       "    .dataframe tbody tr th:only-of-type {\n",
       "        vertical-align: middle;\n",
       "    }\n",
       "\n",
       "    .dataframe tbody tr th {\n",
       "        vertical-align: top;\n",
       "    }\n",
       "\n",
       "    .dataframe thead th {\n",
       "        text-align: right;\n",
       "    }\n",
       "</style>\n",
       "<table border=\"1\" class=\"dataframe\">\n",
       "  <thead>\n",
       "    <tr style=\"text-align: right;\">\n",
       "      <th></th>\n",
       "      <th>Yas</th>\n",
       "      <th>Meslek</th>\n",
       "    </tr>\n",
       "  </thead>\n",
       "  <tbody>\n",
       "    <tr>\n",
       "      <th>Homer</th>\n",
       "      <td>40</td>\n",
       "      <td>A</td>\n",
       "    </tr>\n",
       "    <tr>\n",
       "      <th>Bart</th>\n",
       "      <td>10</td>\n",
       "      <td>B</td>\n",
       "    </tr>\n",
       "    <tr>\n",
       "      <th>Marge</th>\n",
       "      <td>30</td>\n",
       "      <td>C</td>\n",
       "    </tr>\n",
       "  </tbody>\n",
       "</table>\n",
       "</div>"
      ],
      "text/plain": [
       "      Yas Meslek\n",
       "Homer  40      A\n",
       "Bart   10      B\n",
       "Marge  30      C"
      ]
     },
     "execution_count": 69,
     "metadata": {},
     "output_type": "execute_result"
    }
   ],
   "source": [
    "cizgiFilmDataFrame.loc[\"Simpson\"]"
   ]
  },
  {
   "cell_type": "code",
   "execution_count": 70,
   "id": "df485af4",
   "metadata": {},
   "outputs": [
    {
     "data": {
      "text/plain": [
       "Yas       10\n",
       "Meslek     E\n",
       "Name: Kenny, dtype: object"
      ]
     },
     "execution_count": 70,
     "metadata": {},
     "output_type": "execute_result"
    }
   ],
   "source": [
    "cizgiFilmDataFrame.loc[\"South Park\"].loc[\"Kenny\"]"
   ]
  },
  {
   "cell_type": "code",
   "execution_count": 71,
   "id": "6c8ffaf8",
   "metadata": {},
   "outputs": [
    {
     "data": {
      "text/html": [
       "<div>\n",
       "<style scoped>\n",
       "    .dataframe tbody tr th:only-of-type {\n",
       "        vertical-align: middle;\n",
       "    }\n",
       "\n",
       "    .dataframe tbody tr th {\n",
       "        vertical-align: top;\n",
       "    }\n",
       "\n",
       "    .dataframe thead th {\n",
       "        text-align: right;\n",
       "    }\n",
       "</style>\n",
       "<table border=\"1\" class=\"dataframe\">\n",
       "  <thead>\n",
       "    <tr style=\"text-align: right;\">\n",
       "      <th></th>\n",
       "      <th></th>\n",
       "      <th>Yas</th>\n",
       "      <th>Meslek</th>\n",
       "    </tr>\n",
       "  </thead>\n",
       "  <tbody>\n",
       "    <tr>\n",
       "      <th rowspan=\"3\" valign=\"top\">Simpson</th>\n",
       "      <th>Homer</th>\n",
       "      <td>40</td>\n",
       "      <td>A</td>\n",
       "    </tr>\n",
       "    <tr>\n",
       "      <th>Bart</th>\n",
       "      <td>10</td>\n",
       "      <td>B</td>\n",
       "    </tr>\n",
       "    <tr>\n",
       "      <th>Marge</th>\n",
       "      <td>30</td>\n",
       "      <td>C</td>\n",
       "    </tr>\n",
       "    <tr>\n",
       "      <th rowspan=\"3\" valign=\"top\">South Park</th>\n",
       "      <th>Cartman</th>\n",
       "      <td>9</td>\n",
       "      <td>D</td>\n",
       "    </tr>\n",
       "    <tr>\n",
       "      <th>Kenny</th>\n",
       "      <td>10</td>\n",
       "      <td>E</td>\n",
       "    </tr>\n",
       "    <tr>\n",
       "      <th>Kyle</th>\n",
       "      <td>11</td>\n",
       "      <td>F</td>\n",
       "    </tr>\n",
       "  </tbody>\n",
       "</table>\n",
       "</div>"
      ],
      "text/plain": [
       "                   Yas Meslek\n",
       "Simpson    Homer    40      A\n",
       "           Bart     10      B\n",
       "           Marge    30      C\n",
       "South Park Cartman   9      D\n",
       "           Kenny    10      E\n",
       "           Kyle     11      F"
      ]
     },
     "execution_count": 71,
     "metadata": {},
     "output_type": "execute_result"
    }
   ],
   "source": [
    "cizgiFilmDataFrame"
   ]
  },
  {
   "cell_type": "code",
   "execution_count": 72,
   "id": "1aef1f17",
   "metadata": {},
   "outputs": [],
   "source": [
    "cizgiFilmDataFrame.index.names = [\"Film Adı\",\"İsim\"]"
   ]
  },
  {
   "cell_type": "code",
   "execution_count": 73,
   "id": "c0122906",
   "metadata": {},
   "outputs": [
    {
     "data": {
      "text/html": [
       "<div>\n",
       "<style scoped>\n",
       "    .dataframe tbody tr th:only-of-type {\n",
       "        vertical-align: middle;\n",
       "    }\n",
       "\n",
       "    .dataframe tbody tr th {\n",
       "        vertical-align: top;\n",
       "    }\n",
       "\n",
       "    .dataframe thead th {\n",
       "        text-align: right;\n",
       "    }\n",
       "</style>\n",
       "<table border=\"1\" class=\"dataframe\">\n",
       "  <thead>\n",
       "    <tr style=\"text-align: right;\">\n",
       "      <th></th>\n",
       "      <th></th>\n",
       "      <th>Yas</th>\n",
       "      <th>Meslek</th>\n",
       "    </tr>\n",
       "    <tr>\n",
       "      <th>Film Adı</th>\n",
       "      <th>İsim</th>\n",
       "      <th></th>\n",
       "      <th></th>\n",
       "    </tr>\n",
       "  </thead>\n",
       "  <tbody>\n",
       "    <tr>\n",
       "      <th rowspan=\"3\" valign=\"top\">Simpson</th>\n",
       "      <th>Homer</th>\n",
       "      <td>40</td>\n",
       "      <td>A</td>\n",
       "    </tr>\n",
       "    <tr>\n",
       "      <th>Bart</th>\n",
       "      <td>10</td>\n",
       "      <td>B</td>\n",
       "    </tr>\n",
       "    <tr>\n",
       "      <th>Marge</th>\n",
       "      <td>30</td>\n",
       "      <td>C</td>\n",
       "    </tr>\n",
       "    <tr>\n",
       "      <th rowspan=\"3\" valign=\"top\">South Park</th>\n",
       "      <th>Cartman</th>\n",
       "      <td>9</td>\n",
       "      <td>D</td>\n",
       "    </tr>\n",
       "    <tr>\n",
       "      <th>Kenny</th>\n",
       "      <td>10</td>\n",
       "      <td>E</td>\n",
       "    </tr>\n",
       "    <tr>\n",
       "      <th>Kyle</th>\n",
       "      <td>11</td>\n",
       "      <td>F</td>\n",
       "    </tr>\n",
       "  </tbody>\n",
       "</table>\n",
       "</div>"
      ],
      "text/plain": [
       "                   Yas Meslek\n",
       "Film Adı   İsim              \n",
       "Simpson    Homer    40      A\n",
       "           Bart     10      B\n",
       "           Marge    30      C\n",
       "South Park Cartman   9      D\n",
       "           Kenny    10      E\n",
       "           Kyle     11      F"
      ]
     },
     "execution_count": 73,
     "metadata": {},
     "output_type": "execute_result"
    }
   ],
   "source": [
    "cizgiFilmDataFrame"
   ]
  },
  {
   "cell_type": "code",
   "execution_count": null,
   "id": "7c034df3",
   "metadata": {},
   "outputs": [],
   "source": []
  },
  {
   "cell_type": "code",
   "execution_count": null,
   "id": "4de48a1c",
   "metadata": {},
   "outputs": [],
   "source": []
  }
 ],
 "metadata": {
  "kernelspec": {
   "display_name": "Python 3 (ipykernel)",
   "language": "python",
   "name": "python3"
  },
  "language_info": {
   "codemirror_mode": {
    "name": "ipython",
    "version": 3
   },
   "file_extension": ".py",
   "mimetype": "text/x-python",
   "name": "python",
   "nbconvert_exporter": "python",
   "pygments_lexer": "ipython3",
   "version": "3.9.13"
  }
 },
 "nbformat": 4,
 "nbformat_minor": 5
}
